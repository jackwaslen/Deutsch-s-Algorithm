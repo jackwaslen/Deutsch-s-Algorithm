{
 "cells": [
  {
   "cell_type": "markdown",
   "id": "c2e22409",
   "metadata": {},
   "source": [
    "# Deutsch's Algorithm\n",
    "> First I load some helper functions, to help me measure/normalize the qubits. I explain these more in depth in my \"Teleportation\" Algorithm on my github."
   ]
  },
  {
   "cell_type": "code",
   "execution_count": 1,
   "id": "f0931cbf",
   "metadata": {},
   "outputs": [],
   "source": [
    "\"\"\"\n",
    "Author: Jack Waslen\n",
    "Date: April 2024\n",
    "\"\"\"\n",
    "\n",
    "three_bits = [\"000\",\"001\",\"010\",\"011\",\"100\",\"101\",\"110\",\"111\"]\n",
    "two_bits = [\"00\",\"01\",\"10\",\"11\"]\n",
    "one_bits = [\"0\",\"1\"]\n",
    "\n",
    "\n",
    "def measureFirstQubit(circuit_state):\n",
    "    qubit_factors = circuit_state\n",
    "    factors = absolute_square(qubit_factors)\n",
    "    outcomes = {\"0\":0,\"1\":0}\n",
    "    \n",
    "    i = 0\n",
    "    for value in factors.values():\n",
    "        if i < 4:\n",
    "            outcomes[\"0\"] += round(value,3)\n",
    "        else:\n",
    "            outcomes[\"1\"] += round(value,3)\n",
    "        i += 1\n",
    "    return normalization(outcomes)\n",
    "\n",
    "\n",
    "def normalization(probabilities):\n",
    "    N = 0\n",
    "\n",
    "    possible_values = three_bits\n",
    "    if len(probabilities) == 4:\n",
    "        possible_values = two_bits\n",
    "    if len(probabilities) == 2:\n",
    "        possible_values = one_bits\n",
    "        \n",
    "    for combo in possible_values:\n",
    "        N += probabilities[combo]\n",
    "\n",
    "    if N != 1:\n",
    "        for combo in possible_values:\n",
    "            probabilities[combo] = probabilities[combo] / N\n",
    "    return probabilities\n",
    "                \n",
    "def absolute_square(factors):\n",
    "    absolute_squares = {}\n",
    "    \n",
    "    # Adjusting function based on if were calculating one bit, two bits or three bits.\n",
    "    bit_combinations = three_bits\n",
    "    \n",
    "    if len(factors) == 2:\n",
    "        bit_combinations = one_bits\n",
    "    if len(factors) == 4:\n",
    "        bit_combinations = two_bits\n",
    "    \n",
    "    # Loop through mapping probabilities to bit values\n",
    "    for index in range(len(factors)):\n",
    "        probability_amplitude = abs(factors[index].real) ** 2 + abs(factors[index].imag) ** 2\n",
    "        absolute_squares[bit_combinations[index]] = round(probability_amplitude,3)\n",
    "\n",
    "    return absolute_squares\n"
   ]
  },
  {
   "cell_type": "markdown",
   "id": "3b02919e",
   "metadata": {},
   "source": [
    "> This measure Input Qubit takes the four factors (alpha, beta, gamma, delta) and measures only the first qubit, whether is it a zero or a one."
   ]
  },
  {
   "cell_type": "code",
   "execution_count": 2,
   "id": "b2f20bc1",
   "metadata": {},
   "outputs": [],
   "source": [
    "def measureInputQubit(circuit):\n",
    "    zero = 0\n",
    "    one = 0\n",
    "    \n",
    "    # qubit_factors = [alpha, beta, gamma, delta]\n",
    "    qubit_factors = circuit.state\n",
    "    \n",
    "    # factors is the corresponding probabilities\n",
    "    factors = normalization(absolute_square(qubit_factors))\n",
    "    index = 0\n",
    "    \n",
    "    # Add the corresponding probabilities for input qubit = 1 \n",
    "    # and input qubit = 0\n",
    "    for (key, value) in factors.items():\n",
    "        if index <= 1:\n",
    "            zero += value\n",
    "        if index > 1:\n",
    "            one += value\n",
    "        index += 1\n",
    "        \n",
    "    if zero != 1 and one != 1:\n",
    "        print(\"Catastrophic Error!\")\n",
    "    if zero == 1:\n",
    "        print(\"We measure Zero! The function is Balanced.\")\n",
    "\n",
    "    if one == 1:\n",
    "        print(\"We measure One! The function is Constant.\")\n"
   ]
  },
  {
   "cell_type": "markdown",
   "id": "0e34f9b2",
   "metadata": {},
   "source": [
    "> This function performs deutsch's algorithm. I use a identity gate and a CNOT to model a balanced function vs a constant function respectively."
   ]
  },
  {
   "cell_type": "code",
   "execution_count": 3,
   "id": "b86d2d83",
   "metadata": {},
   "outputs": [],
   "source": [
    "import numpy as np\n",
    "from math import sqrt\n",
    "import dwave.gate.operations as gate\n",
    "from dwave.gate.simulator import simulate\n",
    "from dwave.gate import Circuit\n",
    "from dwave.gate.registers.registers import ClassicalRegister, QuantumRegister\n",
    "from math import pi\n",
    "\n",
    "def deutsch_algorithm(balancedOracle):\n",
    "    # Circuit has two qubits, zero classical bits\n",
    "    circuit = Circuit(2,0)\n",
    "\n",
    "    # Entering the circuit\n",
    "    with circuit.context as (qubit, cbits):\n",
    "        # First Qubit\n",
    "        input_qubit = qubit[0]\n",
    "\n",
    "        # Last Qubit, ie. second qubit\n",
    "        output_qubit = qubit[-1]\n",
    "\n",
    "        # Apply the required gates\n",
    "        gate.X(input_qubit)\n",
    "        gate.X(output_qubit)\n",
    "\n",
    "        gate.Hadamard(input_qubit)\n",
    "        gate.Hadamard(output_qubit)\n",
    "\n",
    "\n",
    "        # Apply Oracle\n",
    "        \n",
    "        if balancedOracle:\n",
    "            # This CNOT represents a balanced function\n",
    "            gate.CNOT(control=input_qubit, target=output_qubit)\n",
    "        else:\n",
    "            # This identity represents a constant function\n",
    "            gate.Identity(input_qubit)\n",
    "        \n",
    "        # Finish Protocol\n",
    "        gate.Hadamard(input_qubit)\n",
    "\n",
    "        simulate(circuit)\n",
    "\n",
    "        measureInputQubit(circuit)\n"
   ]
  },
  {
   "cell_type": "code",
   "execution_count": 4,
   "id": "430dd914",
   "metadata": {},
   "outputs": [
    {
     "name": "stdout",
     "output_type": "stream",
     "text": [
      "Our Data Matches with a Balanced Function: \n",
      "Running Deutsch's ...\n",
      "We measure Zero! The function is Balanced.\n",
      "\n",
      "Our Data Matches with a Constant Function: \n",
      "Running Deutsch's ...\n",
      "We measure One! The function is Constant.\n"
     ]
    }
   ],
   "source": [
    "print(\"Our Data Matches with a Balanced Function: \")\n",
    "print(\"Running Deutsch's ...\")\n",
    "deutsch_algorithm(balancedOracle=True)\n",
    "\n",
    "print()\n",
    "print(\"Our Data Matches with a Constant Function: \")\n",
    "print(\"Running Deutsch's ...\")\n",
    "deutsch_algorithm(balancedOracle=False)"
   ]
  }
 ],
 "metadata": {
  "kernelspec": {
   "display_name": "Python 3 (ipykernel)",
   "language": "python",
   "name": "python3"
  },
  "language_info": {
   "codemirror_mode": {
    "name": "ipython",
    "version": 3
   },
   "file_extension": ".py",
   "mimetype": "text/x-python",
   "name": "python",
   "nbconvert_exporter": "python",
   "pygments_lexer": "ipython3",
   "version": "3.9.12"
  }
 },
 "nbformat": 4,
 "nbformat_minor": 5
}
